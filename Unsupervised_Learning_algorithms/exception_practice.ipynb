{
 "cells": [
  {
   "cell_type": "markdown",
   "id": "9152c50e-a4e1-4059-bc07-eb8f6a325f68",
   "metadata": {},
   "source": [
    "# Convert usesr input to float with Error Handling\n"
   ]
  },
  {
   "cell_type": "code",
   "execution_count": 7,
   "id": "37316e8f-2cec-46ae-b186-34aec277c655",
   "metadata": {},
   "outputs": [
    {
     "name": "stdin",
     "output_type": "stream",
     "text": [
      "Enter a number:  sdf\n"
     ]
    },
    {
     "ename": "NameError",
     "evalue": "name 'ValueEror' is not defined",
     "output_type": "error",
     "traceback": [
      "\u001b[1;31m---------------------------------------------------------------------------\u001b[0m",
      "\u001b[1;31mValueError\u001b[0m                                Traceback (most recent call last)",
      "Cell \u001b[1;32mIn[7], line 6\u001b[0m\n\u001b[0;32m      5\u001b[0m \u001b[38;5;28;01mtry\u001b[39;00m:\n\u001b[1;32m----> 6\u001b[0m     number \u001b[38;5;241m=\u001b[39m \u001b[38;5;28mfloat\u001b[39m(user_input)\n\u001b[0;32m      8\u001b[0m     \u001b[38;5;66;03m# if successful, prnt the square\u001b[39;00m\n",
      "\u001b[1;31mValueError\u001b[0m: could not convert string to float: 'sdf'",
      "\nDuring handling of the above exception, another exception occurred:\n",
      "\u001b[1;31mNameError\u001b[0m                                 Traceback (most recent call last)",
      "Cell \u001b[1;32mIn[7], line 12\u001b[0m\n\u001b[0;32m      9\u001b[0m     \u001b[38;5;28mprint\u001b[39m(\u001b[38;5;124mf\u001b[39m\u001b[38;5;124m\"\u001b[39m\u001b[38;5;124mThe square of your number is: \u001b[39m\u001b[38;5;132;01m{\u001b[39;00mnumber\u001b[38;5;250m \u001b[39m\u001b[38;5;241m*\u001b[39m\u001b[38;5;241m*\u001b[39m\u001b[38;5;250m \u001b[39m\u001b[38;5;241m2\u001b[39m\u001b[38;5;132;01m}\u001b[39;00m\u001b[38;5;124m\"\u001b[39m)\n\u001b[0;32m     11\u001b[0m \u001b[38;5;66;03m# Step 3: Catch any error and print a friendly message\u001b[39;00m\n\u001b[1;32m---> 12\u001b[0m \u001b[38;5;28;01mexcept\u001b[39;00m ValueEror:\n\u001b[0;32m     13\u001b[0m     \u001b[38;5;66;03m# if conversion fails\u001b[39;00m\n\u001b[0;32m     14\u001b[0m     \u001b[38;5;28mprint\u001b[39m(\u001b[38;5;124m\"\u001b[39m\u001b[38;5;124mThat was not a valid number. Please enter a numeric value.\u001b[39m\u001b[38;5;124m\"\u001b[39m)\n",
      "\u001b[1;31mNameError\u001b[0m: name 'ValueEror' is not defined"
     ]
    }
   ],
   "source": [
    "# Step 1: Ask the user to input a number\n",
    "user_input = input(\"Enter a number: \")\n",
    "\n",
    "# Step 2: Try to convert it to a float\n",
    "try:\n",
    "    number = float(user_input)\n",
    "\n",
    "    # if successful, prnt the square\n",
    "    print(f\"The square of your number is: {number ** 2}\")\n",
    "\n",
    "# Step 3: Catch any error and print a friendly message\n",
    "except ValueEror:\n",
    "    # if conversion fails\n",
    "    print(\"That was not a valid number. Please enter a numeric value.\")"
   ]
  },
  {
   "cell_type": "code",
   "execution_count": null,
   "id": "cbcb9179-a600-4e9b-b981-e2646d8dfc47",
   "metadata": {},
   "outputs": [],
   "source": []
  }
 ],
 "metadata": {
  "kernelspec": {
   "display_name": "Python 3 (ipykernel)",
   "language": "python",
   "name": "python3"
  },
  "language_info": {
   "codemirror_mode": {
    "name": "ipython",
    "version": 3
   },
   "file_extension": ".py",
   "mimetype": "text/x-python",
   "name": "python",
   "nbconvert_exporter": "python",
   "pygments_lexer": "ipython3",
   "version": "3.12.7"
  }
 },
 "nbformat": 4,
 "nbformat_minor": 5
}
