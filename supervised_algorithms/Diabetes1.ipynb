{
 "cells": [
  {
   "cell_type": "code",
   "execution_count": 2,
   "id": "31869369-1837-4b9c-9831-b4cc3f2d8a59",
   "metadata": {},
   "outputs": [
    {
     "name": "stdout",
     "output_type": "stream",
     "text": [
      "Accuracy: 0.7922077922077922\n",
      "Classification Report:               precision    recall  f1-score   support\n",
      "\n",
      "           0       0.81      0.88      0.84        99\n",
      "           1       0.74      0.64      0.69        55\n",
      "\n",
      "    accuracy                           0.79       154\n",
      "   macro avg       0.78      0.76      0.77       154\n",
      "weighted avg       0.79      0.79      0.79       154\n",
      "\n",
      "Confusion Matrix: [[87 12]\n",
      " [20 35]]\n"
     ]
    },
    {
     "data": {
      "image/png": "[encoded data removed]",
      "text/plain": [
       "<Figure size 640x480 with 2 Axes>"
      ]
     },
     "metadata": {},
     "output_type": "display_data"
    },
    {
     "ename": "NameError",
     "evalue": "name 'plot_tree' is not defined",
     "output_type": "error",
     "traceback": [
      "\u001b[1;31m---------------------------------------------------------------------------\u001b[0m",
      "\u001b[1;31mNameError\u001b[0m                                 Traceback (most recent call last)",
      "Cell \u001b[1;32mIn[2], line 51\u001b[0m\n\u001b[0;32m     49\u001b[0m \u001b[38;5;66;03m# Step 10: Visualize the decision tree\u001b[39;00m\n\u001b[0;32m     50\u001b[0m plt\u001b[38;5;241m.\u001b[39mfigure(figsize\u001b[38;5;241m=\u001b[39m(\u001b[38;5;241m20\u001b[39m, \u001b[38;5;241m10\u001b[39m))\n\u001b[1;32m---> 51\u001b[0m plot_tree(clf, filled\u001b[38;5;241m=\u001b[39m\u001b[38;5;28;01mTrue\u001b[39;00m, feature_names\u001b[38;5;241m=\u001b[39mX\u001b[38;5;241m.\u001b[39mcolumns, class_names\u001b[38;5;241m=\u001b[39m[\u001b[38;5;124m'\u001b[39m\u001b[38;5;124mNo Diabetes\u001b[39m\u001b[38;5;124m'\u001b[39m, \u001b[38;5;124m'\u001b[39m\u001b[38;5;124mDiabetes\u001b[39m\u001b[38;5;124m'\u001b[39m])\n\u001b[0;32m     52\u001b[0m plt\u001b[38;5;241m.\u001b[39mtitle(\u001b[38;5;124m'\u001b[39m\u001b[38;5;124mDecision Tree for Diabetes Prediction\u001b[39m\u001b[38;5;124m'\u001b[39m)\n\u001b[0;32m     53\u001b[0m \u001b[38;5;66;03m#plt.show()\u001b[39;00m\n",
      "\u001b[1;31mNameError\u001b[0m: name 'plot_tree' is not defined"
     ]
    },
    {
     "data": {
      "text/plain": [
       "<Figure size 2000x1000 with 0 Axes>"
      ]
     },
     "metadata": {},
     "output_type": "display_data"
    }
   ],
   "source": [
    "# Step 1: Import necessary libraries\n",
    "\n",
    "import pandas as pd\n",
    "import numpy as np\n",
    "from sklearn.model_selection import train_test_split\n",
    "from sklearn.preprocessing import StandardScaler\n",
    "from sklearn.tree import DecisionTreeClassifier\n",
    "from sklearn.metrics import classification_report, confusion_matrix, accuracy_score\n",
    "import matplotlib.pyplot as plt\n",
    "import seaborn as sns\n",
    "\n",
    "# Step 2: Load the dataset\n",
    "\n",
    "df = pd.read_csv('diabetes.csv')\n",
    "#df.head()\n",
    "\n",
    "# Step 3: Check for missing values\n",
    "#df.isnull().sum()\n",
    "\n",
    "# Step 4: Define features and target\n",
    "X = df.drop('Outcome', axis=1)\n",
    "y = df['Outcome']\n",
    "\n",
    "# Step 5: Split the data\n",
    "X_train, X_test, y_train, y_test = train_test_split(X, y, test_size=0.2, random_state=42)\n",
    "\n",
    "# Step 6: Feature Scaling\n",
    "scaler = StandardScaler()\n",
    "X_train_scaled = scaler.fit_transform(X_train)\n",
    "X_test_scaled = scaler.transform(X_test)\n",
    "\n",
    "# Step 7: Train the Decision Tree Model\n",
    "Tree = DecisionTreeClassifier(random_state=42, max_depth=5)\n",
    "Tree.fit(X_train_scaled, y_train)\n",
    "\n",
    "# Step 8: Evaluate the model\n",
    "y_pred = Tree.predict(X_test_scaled)\n",
    "print('Accuracy:', accuracy_score(y_test, y_pred))\n",
    "print('Classification Report:', classification_report(y_test, y_pred))\n",
    "print('Confusion Matrix:', confusion_matrix(y_test, y_pred))\n",
    "\n",
    "# Step 9: Plot the confusion matrix\n",
    "sns.heatmap(confusion_matrix(y_test, y_pred), annot=True, fmt='d', cmap='YlGnBu')\n",
    "plt.xlabel('Predicted')\n",
    "plt.ylabel('Actual')\n",
    "plt.title('Confusion Matrix')\n",
    "plt.show()\n",
    "\n",
    "# Step 10: Visualize the decision tree\n",
    "plt.figure(figsize=(20, 10))\n",
    "plot_tree(clf, filled=True, feature_names=X.columns, class_names=['No Diabetes', 'Diabetes'])\n",
    "plt.title('Decision Tree for Diabetes Prediction')\n",
    "#plt.show()\n",
    "\n",
    "from sklearn.tree import export_graphviz\n",
    "# Step 11:\n",
    "export_graphviz(Tree, out_file = \"diabetes_tree.dot\", class_names=[\"No Diabetes\", \"Diabetes\"], feature_names = X.columns, impurity=False, filled=True, rounded=True)\n",
    "print(\"Decision tree exported to 'diabetes_tree.dot'\")"
   ]
  },
  {
   "cell_type": "code",
   "execution_count": null,
   "id": "00c1f3a9-70c4-42e5-9216-0aa9be0c9161",
   "metadata": {},
   "outputs": [],
   "source": []
  },
  {
   "cell_type": "code",
   "execution_count": null,
   "id": "5129fb92-40d8-47bd-af40-38611223b22c",
   "metadata": {},
   "outputs": [],
   "source": []
  }
 ],
 "metadata": {
  "kernelspec": {
   "display_name": "Python 3 (ipykernel)",
   "language": "python",
   "name": "python3"
  },
  "language_info": {
   "codemirror_mode": {
    "name": "ipython",
    "version": 3
   },
   "file_extension": ".py",
   "mimetype": "text/x-python",
   "name": "python",
   "nbconvert_exporter": "python",
   "pygments_lexer": "ipython3",
   "version": "3.12.7"
  }
 },
 "nbformat": 4,
 "nbformat_minor": 5
}
