{
 "cells": [
  {
   "cell_type": "code",
   "execution_count": null,
   "id": "3c33e21e-aa76-40b1-a3c2-8ef6f9b68315",
   "metadata": {},
   "outputs": [],
   "source": [
    "# Step 1: Import libraries\n",
    "import pandas as pd\n",
    "import numpy as np\n",
    "import matplotlib.pyplot as plt\n",
    "from sklearn.model_selection import train_test_split\n",
    "from sklearn.preprocessing import StandardScaler\n",
    "from sklearn.svm import SVC\n",
    "from sklearn.metrics import classification_report, confusion_matrix\n",
    "\n",
    "# Step 2: Load data\n",
    "df = np.read_csv('Social_Network_Ads.csv)\n",
    "# Step 3: Separate X (features) and y (target)\n",
    "# Step 4: Split data to training and testing\n",
    "# Step 5: Scale data\n",
    "# Step 6: Train the kernelized SVM (RBF kernel)\n",
    "# Step 7: Evaluate on the test set\n",
    "# Step 8: create the plot_decision_boundary function to draw the SVM decision regions and the data points\n",
    "    # 1. Determine the limits of the plot\n",
    "    # 2. Create a meshgrid covering the entire feature space\n",
    "    # 3. Predict the class for every point in the mesh\n",
    "    # 4. Plot filled decision regions (red vs blue)\n",
    "    # 5. Overlay the actual data point (colored by true label)\n",
    "# Step 9: Visualize decision boundary for both training and test sets"
   ]
  }
 ],
 "metadata": {
  "kernelspec": {
   "display_name": "Python 3 (ipykernel)",
   "language": "python",
   "name": "python3"
  },
  "language_info": {
   "codemirror_mode": {
    "name": "ipython",
    "version": 3
   },
   "file_extension": ".py",
   "mimetype": "text/x-python",
   "name": "python",
   "nbconvert_exporter": "python",
   "pygments_lexer": "ipython3",
   "version": "3.12.7"
  }
 },
 "nbformat": 4,
 "nbformat_minor": 5
}
